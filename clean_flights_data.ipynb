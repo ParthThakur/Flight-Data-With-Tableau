{
 "cells": [
  {
   "cell_type": "code",
   "execution_count": 1,
   "metadata": {},
   "outputs": [],
   "source": [
    "# Import required libraries.\n",
    "\n",
    "import pandas as pd\n",
    "import numpy as np\n",
    "import time"
   ]
  },
  {
   "cell_type": "code",
   "execution_count": 2,
   "metadata": {},
   "outputs": [],
   "source": [
    "t_begin = time.time()\n",
    "t_read = time.time()"
   ]
  },
  {
   "cell_type": "code",
   "execution_count": 3,
   "metadata": {},
   "outputs": [],
   "source": [
    "# Read all datasets.\n",
    "\n",
    "jan  = pd.read_csv(\"datasets/01_flight_details_january.csv\")\n",
    "feb  = pd.read_csv(\"datasets/02_flight_details_february.csv\")\n",
    "mar  = pd.read_csv(\"datasets/03_flight_details_march.csv\")\n",
    "apr  = pd.read_csv(\"datasets/04_flight_details_april.csv\")\n",
    "may  = pd.read_csv(\"datasets/05_flight_details_may.csv\")\n",
    "jun  = pd.read_csv(\"datasets/06_flight_details_june.csv\")\n",
    "jul  = pd.read_csv(\"datasets/07_flight_details_july.csv\")\n",
    "aug  = pd.read_csv(\"datasets/08_flight_details_august.csv\")\n",
    "sep  = pd.read_csv(\"datasets/09_flight_details_september.csv\")\n",
    "octo = pd.read_csv(\"datasets/10_flight_details_october.csv\")\n",
    "nov  = pd.read_csv(\"datasets/11_flight_details_november.csv\")\n",
    "dec  = pd.read_csv(\"datasets/12_flight_details_december.csv\")\n"
   ]
  },
  {
   "cell_type": "code",
   "execution_count": 4,
   "metadata": {},
   "outputs": [],
   "source": [
    "t_read_complete = time.time() - t_read"
   ]
  },
  {
   "cell_type": "code",
   "execution_count": 5,
   "metadata": {},
   "outputs": [],
   "source": [
    "# Make list of dasets to make iterating easy.\n",
    "\n",
    "df_list = [jan, feb, mar, apr, may, jun, jul, aug, sep, octo, nov, dec]"
   ]
  },
  {
   "cell_type": "code",
   "execution_count": 6,
   "metadata": {},
   "outputs": [
    {
     "name": "stdout",
     "output_type": "stream",
     "text": [
      "<class 'pandas.core.frame.DataFrame'>\n",
      "RangeIndex: 450017 entries, 0 to 450016\n",
      "Data columns (total 25 columns):\n",
      "FL_DATE                450017 non-null object\n",
      "AIRLINE_ID             450017 non-null int64\n",
      "TAIL_NUM               449378 non-null object\n",
      "FL_NUM                 450017 non-null int64\n",
      "ORIGIN                 450017 non-null object\n",
      "ORIGIN_CITY_NAME       450017 non-null object\n",
      "DEST                   450017 non-null object\n",
      "DEST_CITY_NAME         450017 non-null object\n",
      "CRS_DEP_TIME           450017 non-null int64\n",
      "DEP_TIME               441476 non-null float64\n",
      "DEP_DELAY              441476 non-null float64\n",
      "DEP_DELAY_GROUP        441476 non-null float64\n",
      "CRS_ARR_TIME           450017 non-null int64\n",
      "ARR_TIME               440746 non-null float64\n",
      "ARR_DELAY              439645 non-null float64\n",
      "ARR_DELAY_GROUP        439645 non-null float64\n",
      "CANCELLED              450017 non-null float64\n",
      "DIVERTED               450017 non-null float64\n",
      "AIR_TIME               439645 non-null float64\n",
      "CARRIER_DELAY          97699 non-null float64\n",
      "WEATHER_DELAY          97699 non-null float64\n",
      "NAS_DELAY              97699 non-null float64\n",
      "SECURITY_DELAY         97699 non-null float64\n",
      "LATE_AIRCRAFT_DELAY    97699 non-null float64\n",
      "Unnamed: 24            0 non-null float64\n",
      "dtypes: float64(15), int64(4), object(6)\n",
      "memory usage: 85.8+ MB\n"
     ]
    }
   ],
   "source": [
    "jan.info()"
   ]
  },
  {
   "cell_type": "code",
   "execution_count": 7,
   "metadata": {},
   "outputs": [],
   "source": [
    "# Make copies of datasets.\n",
    "df_copy_list = []\n",
    "for df in df_list:\n",
    "    df_copy_list.append(df.copy())\n",
    "\n",
    "# Deconstruct copy list for redable access to elements.\n",
    "jan_copy, feb_copy, mar_copy, apr_copy, may_copy, jun_copy, jul_copy, aug_copy, sep_copy, octo_copy, nov_copy, dec_copy = df_copy_list"
   ]
  },
  {
   "cell_type": "code",
   "execution_count": 8,
   "metadata": {},
   "outputs": [],
   "source": [
    "t_convert = time.time()"
   ]
  },
  {
   "cell_type": "code",
   "execution_count": 9,
   "metadata": {},
   "outputs": [],
   "source": [
    "# Convert columns to appropriate datatypes.\n",
    "\n",
    "for df in df_copy_list:\n",
    "        \n",
    "    df.FL_DATE = pd.to_datetime(df.FL_DATE)\n",
    "    \n",
    "    df.AIRLINE_ID = df.AIRLINE_ID.astype(\"str\")\n",
    "    \n",
    "    df.FL_NUM = df.FL_NUM.astype(\"str\")\n",
    "    \n",
    "    df.CRS_DEP_TIME = df.CRS_DEP_TIME.astype(\"str\").str.zfill(4).replace(\"2400\", \"2359\")\n",
    "    df.CRS_ARR_TIME = df.CRS_ARR_TIME.astype(\"str\").str.zfill(4).replace(\"2400\", \"2359\")    \n",
    "    df.CRS_DEP_TIME = pd.to_datetime(df.CRS_DEP_TIME, format=\"%H%M\").dt.time\n",
    "    df.CRS_ARR_TIME = pd.to_datetime(df.CRS_ARR_TIME, format=\"%H%M\").dt.time\n",
    "    \n",
    "    df.DEP_TIME = df.DEP_TIME.astype(\"int\", errors=\"ignore\").astype(\"str\").str.zfill(4).replace(\"2400\", \"2359\")\n",
    "    df.ARR_TIME = df.ARR_TIME.astype(\"int\", errors=\"ignore\").astype(\"str\").str.zfill(4).replace(\"2400\", \"2359\")\n",
    "    \n",
    "    df.DEP_DELAY_GROUP = df.DEP_DELAY_GROUP.astype(\"int\", errors=\"ignore\")\n",
    "    df.ARR_DELAY_GROUP = df.ARR_DELAY_GROUP.astype(\"int\", errors=\"ignore\")\n",
    "    \n",
    "    df.DEP_DELAY = df.DEP_DELAY.astype(\"int\", errors=\"ignore\")\n",
    "    df.ARR_DELAY = df.ARR_DELAY.astype(\"int\", errors=\"ignore\")\n",
    "    \n",
    "    df.CANCELLED = df.CANCELLED.astype(\"bool\")\n",
    "    df.DIVERTED = df.DIVERTED.astype(\"bool\")\n",
    "    \n",
    "    df.TAIL_NUM = df.TAIL_NUM.replace(np.NaN, \"CANCELLED\")\n",
    "    df[\"FLIGHT_ID\"] = df.index.astype(\"str\").str.zfill(7) + \"-\" + df[\"AIRLINE_ID\"] + df[\"TAIL_NUM\"]\n",
    "    \n",
    "    df.drop([\"AIRLINE_ID\", \"TAIL_NUM\", \"Unnamed: 24\"], axis=1, inplace=True)\n",
    "    \n",
    "    df[[\"CARRIER_DELAY\", \"WEATHER_DELAY\", \"NAS_DELAY\", \"SECURITY_DELAY\", \"LATE_AIRCRAFT_DELAY\"]].replace(0, np.NaN)\n",
    "    \n",
    "    df[\"ORIGIN_CITY\"], df[\"ORIGIN_STATE\"] = df.ORIGIN_CITY_NAME.str.split(\", \").str\n",
    "    df[\"DEST_CITY\"], df[\"DEST_STATE\"] = df.DEST_CITY_NAME.str.split(\", \").str\n",
    "    df.drop([\"ORIGIN_CITY_NAME\", \"DEST_CITY_NAME\"], inplace=True, axis=1)\n",
    "    \n",
    "    df[[\"CARRIER_DELAY\", \"WEATHER_DELAY\", \"NAS_DELAY\", \"SECURITY_DELAY\", \"LATE_AIRCRAFT_DELAY\"]].replace(0, np.NaN)"
   ]
  },
  {
   "cell_type": "code",
   "execution_count": 10,
   "metadata": {},
   "outputs": [],
   "source": [
    "t_convert_complete = time.time() - t_convert"
   ]
  },
  {
   "cell_type": "code",
   "execution_count": 11,
   "metadata": {},
   "outputs": [],
   "source": [
    "t_status = time.time()"
   ]
  },
  {
   "cell_type": "code",
   "execution_count": 12,
   "metadata": {},
   "outputs": [],
   "source": [
    "count = 0\n",
    "for df in df_copy_list:\n",
    "    fls = []\n",
    "    for index, flight in df.iterrows():\n",
    "        if flight.CANCELLED:\n",
    "            FLIGHT_STATUS = \"Cancelled\"\n",
    "        elif flight.DIVERTED:\n",
    "            FLIGHT_STATUS = \"Diverted\"\n",
    "        else:\n",
    "            FLIGHT_STATUS = \"Normal\"\n",
    "        \n",
    "        fls.append({\"FLIGHT_ID\": flight.FLIGHT_ID,\n",
    "                    \"FLIGHT_STATUS\": FLIGHT_STATUS})\n",
    "    \n",
    "    fls_df = pd.DataFrame(fls)\n",
    "    df_copy_list[count] = df.merge(fls_df, on=\"FLIGHT_ID\", how=\"left\")\n",
    "    count += 1\n",
    "    \n",
    "jan_copy, feb_copy, mar_copy, apr_copy, may_copy, jun_copy, jul_copy, aug_copy, sep_copy, octo_copy, nov_copy, dec_copy = df_copy_list"
   ]
  },
  {
   "cell_type": "code",
   "execution_count": 13,
   "metadata": {},
   "outputs": [],
   "source": [
    "t_status_complete = time.time() - t_status\n",
    "t_end = time.time() - t_begin"
   ]
  },
  {
   "cell_type": "code",
   "execution_count": 14,
   "metadata": {},
   "outputs": [
    {
     "name": "stdout",
     "output_type": "stream",
     "text": [
      "Read: 14.246224641799927\n",
      "Convert: 119.45770001411438\n",
      "Status: 752.5466537475586\n",
      "Total: 887.0517683029175\n"
     ]
    }
   ],
   "source": [
    "print(\"Read: {}\\nConvert: {}\\nStatus: {}\\nTotal: {}\".format(t_read_complete, t_convert_complete, t_status_complete, t_end))"
   ]
  },
  {
   "cell_type": "code",
   "execution_count": 18,
   "metadata": {},
   "outputs": [
    {
     "name": "stdout",
     "output_type": "stream",
     "text": [
      "<class 'pandas.core.frame.DataFrame'>\n",
      "Int64Index: 450017 entries, 0 to 450016\n",
      "Data columns (total 24 columns):\n",
      "FL_DATE                450017 non-null datetime64[ns]\n",
      "FL_NUM                 450017 non-null object\n",
      "ORIGIN                 450017 non-null object\n",
      "DEST                   450017 non-null object\n",
      "CRS_DEP_TIME           450017 non-null object\n",
      "DEP_TIME               450017 non-null object\n",
      "DEP_DELAY              441476 non-null float64\n",
      "DEP_DELAY_GROUP        441476 non-null float64\n",
      "CRS_ARR_TIME           450017 non-null object\n",
      "ARR_TIME               450017 non-null object\n",
      "ARR_DELAY              439645 non-null float64\n",
      "ARR_DELAY_GROUP        439645 non-null float64\n",
      "AIR_TIME               439645 non-null float64\n",
      "CARRIER_DELAY          97699 non-null float64\n",
      "WEATHER_DELAY          97699 non-null float64\n",
      "NAS_DELAY              97699 non-null float64\n",
      "SECURITY_DELAY         97699 non-null float64\n",
      "LATE_AIRCRAFT_DELAY    97699 non-null float64\n",
      "FLIGHT_ID              450017 non-null object\n",
      "ORIGIN_CITY            450017 non-null object\n",
      "ORIGIN_STATE           450017 non-null object\n",
      "DEST_CITY              450017 non-null object\n",
      "DEST_STATE             450017 non-null object\n",
      "FLIGHT_STATUS          450017 non-null object\n",
      "dtypes: datetime64[ns](1), float64(10), object(13)\n",
      "memory usage: 85.8+ MB\n"
     ]
    }
   ],
   "source": [
    "jan_copy.info()"
   ]
  },
  {
   "cell_type": "code",
   "execution_count": 17,
   "metadata": {},
   "outputs": [],
   "source": [
    "for df in df_copy_list:\n",
    "    df.drop([\"CANCELLED\", \"DIVERTED\"], axis=1, inplace=True)"
   ]
  },
  {
   "cell_type": "code",
   "execution_count": 19,
   "metadata": {},
   "outputs": [],
   "source": [
    "master_df = pd.concat(df_copy_list)"
   ]
  },
  {
   "cell_type": "code",
   "execution_count": null,
   "metadata": {},
   "outputs": [],
   "source": [
    "master_df.to_csv(\"datasets/2018_claened.csv\", index=False)"
   ]
  },
  {
   "cell_type": "code",
   "execution_count": null,
   "metadata": {},
   "outputs": [],
   "source": []
  }
 ],
 "metadata": {
  "kernelspec": {
   "display_name": "Python 3",
   "language": "python",
   "name": "python3"
  },
  "language_info": {
   "codemirror_mode": {
    "name": "ipython",
    "version": 3
   },
   "file_extension": ".py",
   "mimetype": "text/x-python",
   "name": "python",
   "nbconvert_exporter": "python",
   "pygments_lexer": "ipython3",
   "version": "3.6.5"
  }
 },
 "nbformat": 4,
 "nbformat_minor": 2
}
