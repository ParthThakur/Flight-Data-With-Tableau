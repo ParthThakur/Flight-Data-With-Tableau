{
 "cells": [
  {
   "cell_type": "code",
   "execution_count": 1,
   "metadata": {},
   "outputs": [],
   "source": [
    "# Import required libraries.\n",
    "\n",
    "import pandas as pd"
   ]
  },
  {
   "cell_type": "code",
   "execution_count": 2,
   "metadata": {},
   "outputs": [],
   "source": [
    "# Read all datasets.\n",
    "\n",
    "jan  = pd.read_csv(\"datasets/01_flight_details_january.csv\")\n",
    "feb  = pd.read_csv(\"datasets/02_flight_details_february.csv\")\n",
    "mar  = pd.read_csv(\"datasets/03_flight_details_march.csv\")\n",
    "apr  = pd.read_csv(\"datasets/04_flight_details_april.csv\")\n",
    "may  = pd.read_csv(\"datasets/05_flight_details_may.csv\")\n",
    "jun  = pd.read_csv(\"datasets/06_flight_details_june.csv\")\n",
    "jul  = pd.read_csv(\"datasets/07_flight_details_july.csv\")\n",
    "aug  = pd.read_csv(\"datasets/08_flight_details_august.csv\")\n",
    "sep  = pd.read_csv(\"datasets/09_flight_details_september.csv\")\n",
    "octo = pd.read_csv(\"datasets/10_flight_details_october.csv\")\n",
    "nov  = pd.read_csv(\"datasets/11_flight_details_november.csv\")\n",
    "dec  = pd.read_csv(\"datasets/12_flight_details_december.csv\")\n"
   ]
  },
  {
   "cell_type": "code",
   "execution_count": 12,
   "metadata": {},
   "outputs": [],
   "source": [
    "# Make list of dasets to make iterating easy.\n",
    "\n",
    "df_list = [jan, feb, mar, may, jun, jul, aug, sep, octo, nov, dec]"
   ]
  },
  {
   "cell_type": "code",
   "execution_count": 13,
   "metadata": {},
   "outputs": [
    {
     "name": "stdout",
     "output_type": "stream",
     "text": [
      "<class 'pandas.core.frame.DataFrame'>\n",
      "RangeIndex: 410517 entries, 0 to 410516\n",
      "Data columns (total 25 columns):\n",
      "FL_DATE                410517 non-null object\n",
      "AIRLINE_ID             410517 non-null int64\n",
      "TAIL_NUM               409907 non-null object\n",
      "FL_NUM                 410517 non-null int64\n",
      "ORIGIN                 410517 non-null object\n",
      "ORIGIN_CITY_NAME       410517 non-null object\n",
      "DEST                   410517 non-null object\n",
      "DEST_CITY_NAME         410517 non-null object\n",
      "CRS_DEP_TIME           410517 non-null int64\n",
      "DEP_TIME               404337 non-null float64\n",
      "DEP_DELAY              404335 non-null float64\n",
      "DEP_DELAY_GROUP        404335 non-null float64\n",
      "CRS_ARR_TIME           410517 non-null int64\n",
      "ARR_TIME               403966 non-null float64\n",
      "ARR_DELAY              403225 non-null float64\n",
      "ARR_DELAY_GROUP        403225 non-null float64\n",
      "CANCELLED              410517 non-null float64\n",
      "DIVERTED               410517 non-null float64\n",
      "AIR_TIME               403225 non-null float64\n",
      "CARRIER_DELAY          64264 non-null float64\n",
      "WEATHER_DELAY          64264 non-null float64\n",
      "NAS_DELAY              64264 non-null float64\n",
      "SECURITY_DELAY         64264 non-null float64\n",
      "LATE_AIRCRAFT_DELAY    64264 non-null float64\n",
      "Unnamed: 24            0 non-null float64\n",
      "dtypes: float64(15), int64(4), object(6)\n",
      "memory usage: 78.3+ MB\n"
     ]
    }
   ],
   "source": [
    "feb.info()"
   ]
  },
  {
   "cell_type": "code",
   "execution_count": 75,
   "metadata": {},
   "outputs": [],
   "source": [
    "# Make copies of datasets.\n",
    "df_copy_list = []\n",
    "for df in df_list:\n",
    "    df_copy_list.append(df.copy())\n",
    "\n",
    "# Deconstruct copy list for redable access to elements.\n",
    "jan_copy, feb_copy, mar_copy, may_copy, jun_copy, jul_copy, aug_copy, sep_copy, octo_copy, nov_copy, dec_copy = df_copy_list"
   ]
  },
  {
   "cell_type": "code",
   "execution_count": 76,
   "metadata": {},
   "outputs": [],
   "source": [
    "# Convert columns to appropriate datatypes.\n",
    "\n",
    "for df in df_copy_list:\n",
    "    \n",
    "    df.dropna(subset=[\"DEP_TIME\", \"ARR_TIME\"], inplace=True)\n",
    "    \n",
    "    df.FL_DATE = pd.to_datetime(df.FL_DATE)\n",
    "    \n",
    "    df.AIRLINE_ID = df.AIRLINE_ID.astype(\"str\")\n",
    "    \n",
    "    df.FL_NUM = df.FL_NUM.astype(\"str\")\n",
    "    \n",
    "    df.CRS_DEP_TIME = df.CRS_DEP_TIME.astype(\"str\").str.zfill(4).replace(\"2400\", \"0000\")\n",
    "    df.CRS_ARR_TIME = df.CRS_ARR_TIME.astype(\"str\").str.zfill(4).replace(\"2400\", \"0000\")    \n",
    "    df.CRS_DEP_TIME = pd.to_datetime(df.CRS_DEP_TIME, format=\"%H%M\").dt.time\n",
    "    df.CRS_ARR_TIME = pd.to_datetime(df.CRS_ARR_TIME, format=\"%H%M\").dt.time\n",
    "    \n",
    "    df.DEP_TIME = df.DEP_TIME.astype(\"int\").astype(\"str\").str.zfill(4).replace(\"2400\", \"0000\")\n",
    "    df.ARR_TIME = df.ARR_TIME.astype(\"int\").astype(\"str\").str.zfill(4).replace(\"2400\", \"0000\")    \n",
    "    df.DEP_TIME = pd.to_datetime(df.DEP_TIME, format=\"%H%M\").dt.time\n",
    "    df.ARR_TIME = pd.to_datetime(df.ARR_TIME, format=\"%H%M\").dt.time\n",
    "    \n",
    "    df.DEP_DELAY_GROUP = df.DEP_DELAY_GROUP.astype(\"int\", errors=\"ignore\")\n",
    "    df.ARR_DELAY_GROUP = df.ARR_DELAY_GROUP.astype(\"int\", errors=\"ignore\")\n",
    "    \n",
    "    df.DEP_DELAY = df.DEP_DELAY.astype(\"int\", errors=\"ignore\")\n",
    "    df.ARR_DELAY = df.ARR_DELAY.astype(\"int\", errors=\"ignore\")\n",
    "    \n",
    "    df.CANCELLED = df.CANCELLED.astype(\"bool\")\n",
    "    df.DIVERTED = df.DIVERTED.astype(\"bool\")\n",
    "    \n",
    "    df.drop(\"Unnamed: 24\", axis=1, inplace=True)"
   ]
  },
  {
   "cell_type": "code",
   "execution_count": 86,
   "metadata": {},
   "outputs": [
    {
     "name": "stdout",
     "output_type": "stream",
     "text": [
      "<class 'pandas.core.frame.DataFrame'>\n",
      "Int64Index: 403966 entries, 0 to 410516\n",
      "Data columns (total 24 columns):\n",
      "FL_DATE                403966 non-null datetime64[ns]\n",
      "AIRLINE_ID             403966 non-null object\n",
      "TAIL_NUM               403966 non-null object\n",
      "FL_NUM                 403966 non-null object\n",
      "ORIGIN                 403966 non-null object\n",
      "ORIGIN_CITY_NAME       403966 non-null object\n",
      "DEST                   403966 non-null object\n",
      "DEST_CITY_NAME         403966 non-null object\n",
      "CRS_DEP_TIME           403966 non-null object\n",
      "DEP_TIME               403966 non-null object\n",
      "DEP_DELAY              403966 non-null int32\n",
      "DEP_DELAY_GROUP        403966 non-null int32\n",
      "CRS_ARR_TIME           403966 non-null object\n",
      "ARR_TIME               403966 non-null object\n",
      "ARR_DELAY              403225 non-null float64\n",
      "ARR_DELAY_GROUP        403225 non-null float64\n",
      "CANCELLED              403966 non-null bool\n",
      "DIVERTED               403966 non-null bool\n",
      "AIR_TIME               403225 non-null float64\n",
      "CARRIER_DELAY          64264 non-null float64\n",
      "WEATHER_DELAY          64264 non-null float64\n",
      "NAS_DELAY              64264 non-null float64\n",
      "SECURITY_DELAY         64264 non-null float64\n",
      "LATE_AIRCRAFT_DELAY    64264 non-null float64\n",
      "dtypes: bool(2), datetime64[ns](1), float64(8), int32(2), object(11)\n",
      "memory usage: 68.6+ MB\n"
     ]
    }
   ],
   "source": [
    "feb_copy.info()"
   ]
  },
  {
   "cell_type": "code",
   "execution_count": null,
   "metadata": {},
   "outputs": [],
   "source": []
  }
 ],
 "metadata": {
  "kernelspec": {
   "display_name": "Python 3",
   "language": "python",
   "name": "python3"
  },
  "language_info": {
   "codemirror_mode": {
    "name": "ipython",
    "version": 3
   },
   "file_extension": ".py",
   "mimetype": "text/x-python",
   "name": "python",
   "nbconvert_exporter": "python",
   "pygments_lexer": "ipython3",
   "version": "3.6.5"
  }
 },
 "nbformat": 4,
 "nbformat_minor": 2
}
