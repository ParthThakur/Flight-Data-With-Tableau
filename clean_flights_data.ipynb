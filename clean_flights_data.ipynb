{
 "cells": [
  {
   "cell_type": "code",
   "execution_count": 13,
   "metadata": {},
   "outputs": [],
   "source": [
    "# Import required libraries.\n",
    "\n",
    "import pandas as pd\n",
    "import numpy as np\n",
    "import time"
   ]
  },
  {
   "cell_type": "code",
   "execution_count": 14,
   "metadata": {},
   "outputs": [],
   "source": [
    "t_begin = time.time()\n",
    "t_read = time.time()"
   ]
  },
  {
   "cell_type": "code",
   "execution_count": 15,
   "metadata": {},
   "outputs": [],
   "source": [
    "# Read all datasets.\n",
    "\n",
    "jan  = pd.read_csv(\"datasets/01_flight_details_january.csv\")\n",
    "feb  = pd.read_csv(\"datasets/02_flight_details_february.csv\")\n",
    "mar  = pd.read_csv(\"datasets/03_flight_details_march.csv\")\n",
    "apr  = pd.read_csv(\"datasets/04_flight_details_april.csv\")\n",
    "may  = pd.read_csv(\"datasets/05_flight_details_may.csv\")\n",
    "jun  = pd.read_csv(\"datasets/06_flight_details_june.csv\")\n",
    "jul  = pd.read_csv(\"datasets/07_flight_details_july.csv\")\n",
    "aug  = pd.read_csv(\"datasets/08_flight_details_august.csv\")\n",
    "sep  = pd.read_csv(\"datasets/09_flight_details_september.csv\")\n",
    "octo = pd.read_csv(\"datasets/10_flight_details_october.csv\")\n",
    "nov  = pd.read_csv(\"datasets/11_flight_details_november.csv\")\n",
    "dec  = pd.read_csv(\"datasets/12_flight_details_december.csv\")\n"
   ]
  },
  {
   "cell_type": "code",
   "execution_count": 16,
   "metadata": {},
   "outputs": [],
   "source": [
    "t_read_complete = time.time() - t_read"
   ]
  },
  {
   "cell_type": "code",
   "execution_count": 17,
   "metadata": {},
   "outputs": [],
   "source": [
    "jan_copy = jan.copy()\n",
    "feb_copy = feb.copy()\n",
    "mar_copy = mar.copy()\n",
    "apr_copy = apr.copy()\n",
    "may_copy = may.copy()\n",
    "jun_copy = jun.copy()\n",
    "jul_copy = jul.copy()\n",
    "aug_copy = aug.copy()\n",
    "sep_copy = sep.copy()\n",
    "octo_copy = octo.copy()\n",
    "nov_copy = nov.copy()\n",
    "dec_copy = dec.copy()"
   ]
  },
  {
   "cell_type": "code",
   "execution_count": 18,
   "metadata": {},
   "outputs": [],
   "source": [
    "# Convert columns to appropriate datatypes.\n",
    "\n",
    "def convert_variables(data_frame):\n",
    "    \n",
    "    t_convert = time.time()\n",
    "        \n",
    "    data_frame.FL_DATE = pd.to_datetime(data_frame.FL_DATE)\n",
    "    \n",
    "    data_frame.AIRLINE_ID = data_frame.AIRLINE_ID.astype(\"str\")\n",
    "    \n",
    "    data_frame.FL_NUM = data_frame.FL_NUM.astype(\"str\")\n",
    "    \n",
    "    data_frame.CRS_DEP_TIME = data_frame.CRS_DEP_TIME.astype(\"str\").str.zfill(4).replace(\"2400\", \"2359\")\n",
    "    data_frame.CRS_ARR_TIME = data_frame.CRS_ARR_TIME.astype(\"str\").str.zfill(4).replace(\"2400\", \"2359\")    \n",
    "    data_frame.CRS_DEP_TIME = pd.to_datetime(data_frame.CRS_DEP_TIME, format=\"%H%M\").dt.time\n",
    "    data_frame.CRS_ARR_TIME = pd.to_datetime(data_frame.CRS_ARR_TIME, format=\"%H%M\").dt.time\n",
    "    \n",
    "    data_frame.DEP_TIME = data_frame.DEP_TIME.replace(np.nan, 0.0)\n",
    "    data_frame.ARR_TIME = data_frame.ARR_TIME.replace(np.nan, 0.0)\n",
    "    data_frame.DEP_TIME = data_frame.DEP_TIME.astype(\"int\").astype(\"str\").str.zfill(4).replace(\"2400\", \"2359\")\n",
    "    data_frame.ARR_TIME = data_frame.ARR_TIME.astype(\"int\").astype(\"str\").str.zfill(4).replace(\"2400\", \"2359\")\n",
    "    data_frame.DEP_TIME = pd.to_datetime(data_frame.DEP_TIME, format=\"%H%M\").dt.time\n",
    "    data_frame.ARR_TIME = pd.to_datetime(data_frame.ARR_TIME, format=\"%H%M\").dt.time\n",
    "    \n",
    "    data_frame.DEP_DELAY_GROUP = data_frame.DEP_DELAY_GROUP.astype(\"int\", errors=\"ignore\")\n",
    "    data_frame.ARR_DELAY_GROUP = data_frame.ARR_DELAY_GROUP.astype(\"int\", errors=\"ignore\")\n",
    "    \n",
    "    data_frame.DEP_DELAY = data_frame.DEP_DELAY.astype(\"int\", errors=\"ignore\")\n",
    "    data_frame.ARR_DELAY = data_frame.ARR_DELAY.astype(\"int\", errors=\"ignore\")\n",
    "    \n",
    "    data_frame.CANCELLED = data_frame.CANCELLED.astype(\"bool\")\n",
    "    data_frame.DIVERTED = data_frame.DIVERTED.astype(\"bool\")\n",
    "    \n",
    "    data_frame.TAIL_NUM = data_frame.TAIL_NUM.replace(np.NaN, \"CANCELLED\")\n",
    "    data_frame[\"FLIGHT_ID\"] = data_frame.index.astype(\"str\").str.zfill(7) + \"-\" + data_frame[\"AIRLINE_ID\"] + data_frame[\"TAIL_NUM\"]\n",
    "    \n",
    "    data_frame.drop([\"AIRLINE_ID\", \"TAIL_NUM\", \"Unnamed: 24\"], axis=1, inplace=True)\n",
    "        \n",
    "    data_frame[\"ORIGIN_CITY\"], data_frame[\"ORIGIN_STATE\"] = data_frame.ORIGIN_CITY_NAME.str.split(\", \").str\n",
    "    data_frame[\"DEST_CITY\"], data_frame[\"DEST_STATE\"] = data_frame.DEST_CITY_NAME.str.split(\", \").str\n",
    "    data_frame.drop([\"ORIGIN_CITY_NAME\", \"DEST_CITY_NAME\"], inplace=True, axis=1)\n",
    "    \n",
    "    t_convert_complete = time.time() - t_convert\n",
    "    \n",
    "    return data_frame, t_convert_complete"
   ]
  },
  {
   "cell_type": "code",
   "execution_count": 19,
   "metadata": {},
   "outputs": [],
   "source": [
    "def replace_00(data_frame):\n",
    "    \n",
    "    t_replace = time.time()\n",
    "    \n",
    "    data_frame.CARRIER_DELAY = data_frame.CARRIER_DELAY.replace(0.0, np.nan)\n",
    "    data_frame.WEATHER_DELAY = data_frame.WEATHER_DELAY.replace(0.0, np.nan)\n",
    "    data_frame.NAS_DELAY = data_frame.NAS_DELAY.replace(0.0, np.nan)\n",
    "    data_frame.SECURITY_DELAY = data_frame.SECURITY_DELAY.replace(0.0, np.nan)\n",
    "    data_frame.LATE_AIRCRAFT_DELAY = data_frame.LATE_AIRCRAFT_DELAY.replace(0.0, np.nan)\n",
    "    \n",
    "    t_replace_complete = time.time() - t_replace\n",
    "    \n",
    "    return data_frame, t_replace_complete"
   ]
  },
  {
   "cell_type": "code",
   "execution_count": 20,
   "metadata": {},
   "outputs": [],
   "source": [
    "def flight_status(data_frame):\n",
    "    \n",
    "    t_status = time.time()\n",
    "    \n",
    "    fls = []\n",
    "    for index, flight in data_frame.iterrows():\n",
    "        if flight.CANCELLED:\n",
    "            FLIGHT_STATUS = \"Cancelled\"\n",
    "        elif flight.DIVERTED:\n",
    "            FLIGHT_STATUS = \"Diverted\"\n",
    "        else:\n",
    "            FLIGHT_STATUS = \"Normal\"\n",
    "\n",
    "        fls.append({\"FLIGHT_ID\": flight.FLIGHT_ID,\n",
    "                    \"FLIGHT_STATUS\": FLIGHT_STATUS})\n",
    "\n",
    "    fls_df = pd.DataFrame(fls)\n",
    "    data_frame.drop([\"CANCELLED\", \"DIVERTED\"], axis=1, inplace=True)\n",
    "    data_frame = data_frame.merge(fls_df, on=\"FLIGHT_ID\", how=\"left\")\n",
    "    \n",
    "    t_status_complete = time.time() - t_status\n",
    "\n",
    "    return data_frame, t_status_complete"
   ]
  },
  {
   "cell_type": "code",
   "execution_count": 21,
   "metadata": {},
   "outputs": [],
   "source": [
    "data_frame_list = [jan_copy, feb_copy, mar_copy, \n",
    "                   apr_copy, may_copy, jun_copy, \n",
    "                   jul_copy, aug_copy, sep_copy, \n",
    "                   octo_copy, nov_copy, dec_copy]\n",
    "time_list = [0]"
   ]
  },
  {
   "cell_type": "code",
   "execution_count": 22,
   "metadata": {},
   "outputs": [
    {
     "name": "stdout",
     "output_type": "stream",
     "text": [
      "1\n",
      "2\n",
      "3\n",
      "4\n",
      "5\n",
      "6\n",
      "7\n",
      "8\n",
      "9\n",
      "10\n",
      "11\n",
      "12\n"
     ]
    }
   ],
   "source": [
    "for df in data_frame_list:\n",
    "    df, convert = convert_variables(df)\n",
    "    df, replace = replace_00(df)\n",
    "    df, status  = flight_status(df)\n",
    "    \n",
    "    time_list.append([convert, replace, status])\n",
    "    \n",
    "    print(len(time_list) - 1)"
   ]
  },
  {
   "cell_type": "code",
   "execution_count": 23,
   "metadata": {},
   "outputs": [],
   "source": [
    "t_write = time.time()"
   ]
  },
  {
   "cell_type": "code",
   "execution_count": 24,
   "metadata": {},
   "outputs": [],
   "source": [
    "data_frame_list = [jan_copy, feb_copy, mar_copy, \n",
    "                   apr_copy, may_copy, jun_copy, \n",
    "                   jul_copy, aug_copy, sep_copy, \n",
    "                   octo_copy, nov_copy, dec_copy]\n",
    "\n",
    "master_df = pd.concat(data_frame_list)"
   ]
  },
  {
   "cell_type": "code",
   "execution_count": 25,
   "metadata": {},
   "outputs": [],
   "source": [
    "master_df.to_csv(\"datasets/2018_cleaned.csv\", index=False)"
   ]
  },
  {
   "cell_type": "code",
   "execution_count": 26,
   "metadata": {},
   "outputs": [],
   "source": [
    "t_write_complete = time.time() - t_write\n",
    "t_end = time.time() - t_begin"
   ]
  },
  {
   "cell_type": "code",
   "execution_count": 27,
   "metadata": {},
   "outputs": [
    {
     "name": "stdout",
     "output_type": "stream",
     "text": [
      "January   : Convert: 11.253670692443848\tReplace: 0.035102128982543945\tStatus: 59.774205923080444\n",
      "February  : Convert: 10.595396757125854\tReplace: 0.030005693435668945\tStatus: 54.58962798118591\n",
      "March     : Convert: 12.686957836151123\tReplace: 0.03588390350341797\tStatus: 65.44667482376099\n",
      "April     : Convert: 12.416007041931152\tReplace: 0.03599190711975098\tStatus: 62.84587335586548\n",
      "May       : Convert: 13.028747081756592\tReplace: 0.044010162353515625\tStatus: 65.4891996383667\n",
      "June      : Convert: 13.028053998947144\tReplace: 0.038055419921875\tStatus: 66.71432828903198\n",
      "July      : Convert: 13.527225494384766\tReplace: 0.03802847862243652\tStatus: 67.98509955406189\n",
      "August    : Convert: 13.37300443649292\tReplace: 0.03700757026672363\tStatus: 68.22245359420776\n",
      "September : Convert: 12.175735473632812\tReplace: 0.03900790214538574\tStatus: 60.99470090866089\n",
      "October   : Convert: 12.653844356536865\tReplace: 0.03400611877441406\tStatus: 63.8031120300293\n",
      "November  : Convert: 12.046732664108276\tReplace: 0.04604959487915039\tStatus: 62.66974592208862\n",
      "December  : Convert: 12.337494850158691\tReplace: 0.0380101203918457\tStatus: 61.89037108421326\n",
      "\n",
      "Total     : 1054.2048304080963\n",
      "Begin at    : Thu Sep 20 16:39:04 2018\n",
      "End at      : Thu Sep 20 16:56:38 2018\n"
     ]
    }
   ],
   "source": [
    "print(\"January   : Convert: {}\\tReplace: {}\\tStatus: {}\".format(*time_list[1]))\n",
    "print(\"February  : Convert: {}\\tReplace: {}\\tStatus: {}\".format(*time_list[2]))\n",
    "print(\"March     : Convert: {}\\tReplace: {}\\tStatus: {}\".format(*time_list[3]))\n",
    "print(\"April     : Convert: {}\\tReplace: {}\\tStatus: {}\".format(*time_list[4]))\n",
    "print(\"May       : Convert: {}\\tReplace: {}\\tStatus: {}\".format(*time_list[5]))\n",
    "print(\"June      : Convert: {}\\tReplace: {}\\tStatus: {}\".format(*time_list[6]))\n",
    "print(\"July      : Convert: {}\\tReplace: {}\\tStatus: {}\".format(*time_list[7]))\n",
    "print(\"August    : Convert: {}\\tReplace: {}\\tStatus: {}\".format(*time_list[8]))\n",
    "print(\"September : Convert: {}\\tReplace: {}\\tStatus: {}\".format(*time_list[9]))\n",
    "print(\"October   : Convert: {}\\tReplace: {}\\tStatus: {}\".format(*time_list[10]))\n",
    "print(\"November  : Convert: {}\\tReplace: {}\\tStatus: {}\".format(*time_list[11]))\n",
    "print(\"December  : Convert: {}\\tReplace: {}\\tStatus: {}\".format(*time_list[12]))\n",
    "\n",
    "print(\"\\nTotal     :\", t_end)\n",
    "print(\"Begin at    :\", time.ctime(t_begin))\n",
    "print(\"End at      :\", time.ctime())"
   ]
  },
  {
   "cell_type": "code",
   "execution_count": null,
   "metadata": {},
   "outputs": [],
   "source": []
  }
 ],
 "metadata": {
  "kernelspec": {
   "display_name": "Python 3",
   "language": "python",
   "name": "python3"
  },
  "language_info": {
   "codemirror_mode": {
    "name": "ipython",
    "version": 3
   },
   "file_extension": ".py",
   "mimetype": "text/x-python",
   "name": "python",
   "nbconvert_exporter": "python",
   "pygments_lexer": "ipython3",
   "version": "3.6.5"
  }
 },
 "nbformat": 4,
 "nbformat_minor": 2
}
