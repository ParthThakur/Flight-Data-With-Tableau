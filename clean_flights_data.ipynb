{
 "cells": [
  {
   "cell_type": "code",
   "execution_count": 1,
   "metadata": {},
   "outputs": [],
   "source": [
    "# Import required libraries.\n",
    "\n",
    "import pandas as pd\n",
    "import numpy as np\n",
    "import time"
   ]
  },
  {
   "cell_type": "code",
   "execution_count": 2,
   "metadata": {},
   "outputs": [],
   "source": [
    "t_begin = time.time()\n",
    "t_read = time.time()"
   ]
  },
  {
   "cell_type": "code",
   "execution_count": 3,
   "metadata": {},
   "outputs": [],
   "source": [
    "# Read all datasets.\n",
    "\n",
    "jan  = pd.read_csv(\"datasets/01_flight_details_january.csv\")\n",
    "feb  = pd.read_csv(\"datasets/02_flight_details_february.csv\")\n",
    "mar  = pd.read_csv(\"datasets/03_flight_details_march.csv\")\n",
    "apr  = pd.read_csv(\"datasets/04_flight_details_april.csv\")\n",
    "may  = pd.read_csv(\"datasets/05_flight_details_may.csv\")\n",
    "jun  = pd.read_csv(\"datasets/06_flight_details_june.csv\")\n",
    "jul  = pd.read_csv(\"datasets/07_flight_details_july.csv\")\n",
    "aug  = pd.read_csv(\"datasets/08_flight_details_august.csv\")\n",
    "sep  = pd.read_csv(\"datasets/09_flight_details_september.csv\")\n",
    "octo = pd.read_csv(\"datasets/10_flight_details_october.csv\")\n",
    "nov  = pd.read_csv(\"datasets/11_flight_details_november.csv\")\n",
    "dec  = pd.read_csv(\"datasets/12_flight_details_december.csv\")\n"
   ]
  },
  {
   "cell_type": "code",
   "execution_count": 4,
   "metadata": {},
   "outputs": [],
   "source": [
    "t_read_complete = time.time() - t_read"
   ]
  },
  {
   "cell_type": "code",
   "execution_count": 5,
   "metadata": {},
   "outputs": [],
   "source": [
    "jan_copy = jan.copy()\n",
    "feb_copy = feb.copy()\n",
    "mar_copy = mar.copy()\n",
    "apr_copy = apr.copy()\n",
    "may_copy = may.copy()\n",
    "jun_copy = jun.copy()\n",
    "jul_copy = jul.copy()\n",
    "aug_copy = aug.copy()\n",
    "sep_copy = sep.copy()\n",
    "octo_copy = octo.copy()\n",
    "nov_copy = nov.copy()\n",
    "dec_copy = dec.copy()"
   ]
  },
  {
   "cell_type": "code",
   "execution_count": 6,
   "metadata": {},
   "outputs": [],
   "source": [
    "# Convert columns to appropriate datatypes.\n",
    "\n",
    "def convert_variables(data_frame):\n",
    "    \n",
    "    t_convert = time.time()\n",
    "        \n",
    "    data_frame.FL_DATE = pd.to_datetime(data_frame.FL_DATE)\n",
    "    \n",
    "    data_frame.AIRLINE_ID = data_frame.AIRLINE_ID.astype(\"str\")\n",
    "    \n",
    "    data_frame.FL_NUM = data_frame.FL_NUM.astype(\"str\")\n",
    "    \n",
    "    data_frame.CRS_DEP_TIME = data_frame.CRS_DEP_TIME.astype(\"str\").str.zfill(4).replace(\"2400\", \"2359\")\n",
    "    data_frame.CRS_ARR_TIME = data_frame.CRS_ARR_TIME.astype(\"str\").str.zfill(4).replace(\"2400\", \"2359\")    \n",
    "    data_frame.CRS_DEP_TIME = pd.to_datetime(data_frame.CRS_DEP_TIME, format=\"%H%M\").dt.time\n",
    "    data_frame.CRS_ARR_TIME = pd.to_datetime(data_frame.CRS_ARR_TIME, format=\"%H%M\").dt.time\n",
    "    \n",
    "    data_frame.DEP_TIME = data_frame.DEP_TIME.replace(np.nan, 0.0)\n",
    "    data_frame.ARR_TIME = data_frame.ARR_TIME.replace(np.nan, 0.0)\n",
    "    data_frame.DEP_TIME = data_frame.DEP_TIME.astype(\"int\").astype(\"str\").str.zfill(4).replace(\"2400\", \"2359\")\n",
    "    data_frame.ARR_TIME = data_frame.ARR_TIME.astype(\"int\").astype(\"str\").str.zfill(4).replace(\"2400\", \"2359\")\n",
    "    data_frame.DEP_TIME = pd.to_datetime(data_frame.DEP_TIME, format=\"%H%M\").dt.time\n",
    "    data_frame.ARR_TIME = pd.to_datetime(data_frame.ARR_TIME, format=\"%H%M\").dt.time\n",
    "    \n",
    "    data_frame.DEP_DELAY_GROUP = data_frame.DEP_DELAY_GROUP.astype(\"int\", errors=\"ignore\")\n",
    "    data_frame.ARR_DELAY_GROUP = data_frame.ARR_DELAY_GROUP.astype(\"int\", errors=\"ignore\")\n",
    "    \n",
    "    data_frame.DEP_DELAY = data_frame.DEP_DELAY.astype(\"int\", errors=\"ignore\")\n",
    "    data_frame.ARR_DELAY = data_frame.ARR_DELAY.astype(\"int\", errors=\"ignore\")\n",
    "    \n",
    "    data_frame.CANCELLED = data_frame.CANCELLED.astype(\"bool\")\n",
    "    data_frame.DIVERTED = data_frame.DIVERTED.astype(\"bool\")\n",
    "    \n",
    "    data_frame.TAIL_NUM = data_frame.TAIL_NUM.replace(np.NaN, \"CANCELLED\")\n",
    "    data_frame[\"FLIGHT_ID\"] = data_frame.index.astype(\"str\").str.zfill(7) + \"-\" + data_frame[\"AIRLINE_ID\"] + data_frame[\"TAIL_NUM\"]\n",
    "    \n",
    "    data_frame.drop([\"TAIL_NUM\", \"Unnamed: 24\"], axis=1, inplace=True)\n",
    "        \n",
    "    data_frame[\"ORIGIN_CITY\"], data_frame[\"ORIGIN_STATE\"] = data_frame.ORIGIN_CITY_NAME.str.split(\", \").str\n",
    "    data_frame[\"DEST_CITY\"], data_frame[\"DEST_STATE\"] = data_frame.DEST_CITY_NAME.str.split(\", \").str\n",
    "    data_frame.drop([\"ORIGIN_CITY_NAME\", \"DEST_CITY_NAME\"], inplace=True, axis=1)\n",
    "    \n",
    "    t_convert_complete = time.time() - t_convert\n",
    "    \n",
    "    return data_frame, t_convert_complete"
   ]
  },
  {
   "cell_type": "code",
   "execution_count": 7,
   "metadata": {},
   "outputs": [],
   "source": [
    "def replace_00(data_frame):\n",
    "    \n",
    "    t_replace = time.time()\n",
    "    \n",
    "    data_frame.CARRIER_DELAY = data_frame.CARRIER_DELAY.replace(0.0, np.nan)\n",
    "    data_frame.WEATHER_DELAY = data_frame.WEATHER_DELAY.replace(0.0, np.nan)\n",
    "    data_frame.NAS_DELAY = data_frame.NAS_DELAY.replace(0.0, np.nan)\n",
    "    data_frame.SECURITY_DELAY = data_frame.SECURITY_DELAY.replace(0.0, np.nan)\n",
    "    data_frame.LATE_AIRCRAFT_DELAY = data_frame.LATE_AIRCRAFT_DELAY.replace(0.0, np.nan)\n",
    "    \n",
    "    t_replace_complete = time.time() - t_replace\n",
    "    \n",
    "    return data_frame, t_replace_complete"
   ]
  },
  {
   "cell_type": "code",
   "execution_count": 8,
   "metadata": {},
   "outputs": [],
   "source": [
    "def flight_status(data_frame):\n",
    "    \n",
    "    t_status = time.time()\n",
    "    \n",
    "    fls = []\n",
    "    for index, flight in data_frame.iterrows():\n",
    "        if flight.CANCELLED:\n",
    "            FLIGHT_STATUS = \"Cancelled\"\n",
    "        elif flight.DIVERTED:\n",
    "            FLIGHT_STATUS = \"Diverted\"\n",
    "        else:\n",
    "            FLIGHT_STATUS = \"Normal\"\n",
    "\n",
    "        fls.append({\"FLIGHT_ID\": flight.FLIGHT_ID,\n",
    "                    \"FLIGHT_STATUS\": FLIGHT_STATUS})\n",
    "\n",
    "    fls_df = pd.DataFrame(fls)\n",
    "    data_frame.drop([\"CANCELLED\", \"DIVERTED\"], axis=1, inplace=True)\n",
    "    data_frame = data_frame.merge(fls_df, on=\"FLIGHT_ID\", how=\"left\")\n",
    "    \n",
    "    t_status_complete = time.time() - t_status\n",
    "\n",
    "    return data_frame, t_status_complete"
   ]
  },
  {
   "cell_type": "code",
   "execution_count": 9,
   "metadata": {},
   "outputs": [],
   "source": [
    "time_list = [0]"
   ]
  },
  {
   "cell_type": "code",
   "execution_count": 10,
   "metadata": {},
   "outputs": [],
   "source": [
    "jan_copy, a = convert_variables(jan_copy)\n",
    "jan_copy, b = replace_00(jan_copy)\n",
    "jan_copy, c = flight_status(jan_copy)\n",
    "    \n",
    "time_list.append([a, b, c])"
   ]
  },
  {
   "cell_type": "code",
   "execution_count": 11,
   "metadata": {},
   "outputs": [],
   "source": [
    "feb_copy, a = convert_variables(feb_copy)\n",
    "feb_copy, b = replace_00(feb_copy)\n",
    "feb_copy, c = flight_status(feb_copy)    \n",
    "\n",
    "time_list.append([a, b, c])"
   ]
  },
  {
   "cell_type": "code",
   "execution_count": 12,
   "metadata": {},
   "outputs": [],
   "source": [
    "mar_copy, a = convert_variables(mar_copy)\n",
    "mar_copy, b = replace_00(mar_copy)\n",
    "mar_copy, c = flight_status(mar_copy)    \n",
    "\n",
    "time_list.append([a, b, c])"
   ]
  },
  {
   "cell_type": "code",
   "execution_count": 13,
   "metadata": {},
   "outputs": [],
   "source": [
    "apr_copy, a = convert_variables(apr_copy)\n",
    "apr_copy, b = replace_00(apr_copy)\n",
    "apr_copy, c = flight_status(apr_copy)    \n",
    "\n",
    "time_list.append([a, b, c])"
   ]
  },
  {
   "cell_type": "code",
   "execution_count": 14,
   "metadata": {},
   "outputs": [],
   "source": [
    "may_copy, a = convert_variables(may_copy)\n",
    "may_copy, b = replace_00(may_copy)\n",
    "may_copy, c = flight_status(may_copy)\n",
    "\n",
    "time_list.append([a, b, c])"
   ]
  },
  {
   "cell_type": "code",
   "execution_count": 15,
   "metadata": {},
   "outputs": [],
   "source": [
    "jun_copy, a = convert_variables(jun_copy)\n",
    "jun_copy, b = replace_00(jun_copy)\n",
    "jun_copy, c = flight_status(jun_copy)\n",
    "\n",
    "time_list.append([a, b, c])"
   ]
  },
  {
   "cell_type": "code",
   "execution_count": 16,
   "metadata": {},
   "outputs": [],
   "source": [
    "jul_copy, a = convert_variables(jul_copy)\n",
    "jul_copy, b = replace_00(jul_copy)\n",
    "jul_copy, c = flight_status(jul_copy)\n",
    "\n",
    "time_list.append([a, b, c])"
   ]
  },
  {
   "cell_type": "code",
   "execution_count": 17,
   "metadata": {},
   "outputs": [],
   "source": [
    "aug_copy, a = convert_variables(aug_copy)\n",
    "aug_copy, b = replace_00(aug_copy)\n",
    "aug_copy, c = flight_status(aug_copy)\n",
    "\n",
    "time_list.append([a, b, c])"
   ]
  },
  {
   "cell_type": "code",
   "execution_count": 18,
   "metadata": {},
   "outputs": [],
   "source": [
    "sep_copy, a = convert_variables(sep_copy)\n",
    "sep_copy, b = replace_00(sep_copy)\n",
    "sep_copy, c = flight_status(sep_copy)\n",
    "\n",
    "time_list.append([a, b, c])"
   ]
  },
  {
   "cell_type": "code",
   "execution_count": 19,
   "metadata": {},
   "outputs": [],
   "source": [
    "octo_copy, a = convert_variables(octo_copy)\n",
    "octo_copy, b = replace_00(octo_copy)\n",
    "octo_copy, c = flight_status(octo_copy)\n",
    "\n",
    "time_list.append([a, b, c])"
   ]
  },
  {
   "cell_type": "code",
   "execution_count": 20,
   "metadata": {},
   "outputs": [],
   "source": [
    "nov_copy, a = convert_variables(nov_copy)\n",
    "nov_copy, b = replace_00(nov_copy)\n",
    "nov_copy, c = flight_status(nov_copy)\n",
    "\n",
    "time_list.append([a, b, c])"
   ]
  },
  {
   "cell_type": "code",
   "execution_count": 21,
   "metadata": {},
   "outputs": [],
   "source": [
    "dec_copy, a = convert_variables(dec_copy)\n",
    "dec_copy, b = replace_00(dec_copy)\n",
    "dec_copy, c = flight_status(dec_copy)\n",
    "\n",
    "time_list.append([a, b, c])"
   ]
  },
  {
   "cell_type": "code",
   "execution_count": 22,
   "metadata": {},
   "outputs": [],
   "source": [
    "t_write = time.time()"
   ]
  },
  {
   "cell_type": "code",
   "execution_count": 23,
   "metadata": {},
   "outputs": [],
   "source": [
    "data_frame_list = [jan_copy, feb_copy, mar_copy, \n",
    "                   apr_copy, may_copy, jun_copy, \n",
    "                   jul_copy, aug_copy, sep_copy, \n",
    "                   octo_copy, nov_copy, dec_copy]\n",
    "master_df = pd.concat(data_frame_list)"
   ]
  },
  {
   "cell_type": "code",
   "execution_count": 24,
   "metadata": {},
   "outputs": [],
   "source": [
    "master_df.to_csv(\"datasets/2018_cleaned_enhanced.csv\", index=False)"
   ]
  },
  {
   "cell_type": "code",
   "execution_count": 25,
   "metadata": {},
   "outputs": [],
   "source": [
    "t_write_complete = time.time() - t_write\n",
    "t_end = time.time() - t_begin"
   ]
  },
  {
   "cell_type": "code",
   "execution_count": 26,
   "metadata": {},
   "outputs": [
    {
     "name": "stdout",
     "output_type": "stream",
     "text": [
      "January   : Convert: 11.418611526489258\tReplace: 0.03709602355957031\tStatus: 57.94325828552246\n",
      "February  : Convert: 10.802898406982422\tReplace: 0.029004573822021484\tStatus: 52.701080322265625\n",
      "March     : Convert: 12.699680805206299\tReplace: 0.04117870330810547\tStatus: 63.65720176696777\n",
      "April     : Convert: 12.515369176864624\tReplace: 0.03606748580932617\tStatus: 66.74021482467651\n",
      "May       : Convert: 12.948500871658325\tReplace: 0.03653454780578613\tStatus: 73.47364354133606\n",
      "June      : Convert: 13.235288381576538\tReplace: 0.03800773620605469\tStatus: 63.81502294540405\n",
      "July      : Convert: 13.5190269947052\tReplace: 0.038008689880371094\tStatus: 65.54305338859558\n",
      "August    : Convert: 13.616312980651855\tReplace: 0.03800773620605469\tStatus: 65.50683355331421\n",
      "September : Convert: 12.44648289680481\tReplace: 0.03300738334655762\tStatus: 58.652034521102905\n",
      "October   : Convert: 12.731227397918701\tReplace: 0.03500866889953613\tStatus: 61.759793519973755\n",
      "November  : Convert: 12.210675954818726\tReplace: 0.03300952911376953\tStatus: 58.80856966972351\n",
      "December  : Convert: 12.493985652923584\tReplace: 0.03477931022644043\tStatus: 59.78805088996887\n",
      "\n",
      "Total     : 1041.9390816688538\n",
      "Begin at    : Fri Sep 21 01:24:36 2018\n",
      "End at      : Fri Sep 21 01:41:58 2018\n"
     ]
    }
   ],
   "source": [
    "print(\"January   : Convert: {}\\tReplace: {}\\tStatus: {}\".format(*time_list[1]))\n",
    "print(\"February  : Convert: {}\\tReplace: {}\\tStatus: {}\".format(*time_list[2]))\n",
    "print(\"March     : Convert: {}\\tReplace: {}\\tStatus: {}\".format(*time_list[3]))\n",
    "print(\"April     : Convert: {}\\tReplace: {}\\tStatus: {}\".format(*time_list[4]))\n",
    "print(\"May       : Convert: {}\\tReplace: {}\\tStatus: {}\".format(*time_list[5]))\n",
    "print(\"June      : Convert: {}\\tReplace: {}\\tStatus: {}\".format(*time_list[6]))\n",
    "print(\"July      : Convert: {}\\tReplace: {}\\tStatus: {}\".format(*time_list[7]))\n",
    "print(\"August    : Convert: {}\\tReplace: {}\\tStatus: {}\".format(*time_list[8]))\n",
    "print(\"September : Convert: {}\\tReplace: {}\\tStatus: {}\".format(*time_list[9]))\n",
    "print(\"October   : Convert: {}\\tReplace: {}\\tStatus: {}\".format(*time_list[10]))\n",
    "print(\"November  : Convert: {}\\tReplace: {}\\tStatus: {}\".format(*time_list[11]))\n",
    "print(\"December  : Convert: {}\\tReplace: {}\\tStatus: {}\".format(*time_list[12]))\n",
    "\n",
    "print(\"\\nTotal     :\", t_end)\n",
    "print(\"Begin at    :\", time.ctime(t_begin))\n",
    "print(\"End at      :\", time.ctime())"
   ]
  },
  {
   "cell_type": "code",
   "execution_count": null,
   "metadata": {},
   "outputs": [],
   "source": []
  }
 ],
 "metadata": {
  "kernelspec": {
   "display_name": "Python 3",
   "language": "python",
   "name": "python3"
  },
  "language_info": {
   "codemirror_mode": {
    "name": "ipython",
    "version": 3
   },
   "file_extension": ".py",
   "mimetype": "text/x-python",
   "name": "python",
   "nbconvert_exporter": "python",
   "pygments_lexer": "ipython3",
   "version": "3.6.5"
  }
 },
 "nbformat": 4,
 "nbformat_minor": 2
}
