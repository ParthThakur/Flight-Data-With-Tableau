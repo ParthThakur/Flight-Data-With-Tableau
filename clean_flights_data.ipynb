{
 "cells": [
  {
   "cell_type": "code",
   "execution_count": 1,
   "metadata": {},
   "outputs": [],
   "source": [
    "import pandas as pd"
   ]
  },
  {
   "cell_type": "code",
   "execution_count": 18,
   "metadata": {},
   "outputs": [],
   "source": [
    "jan  = pd.read_csv(\"datasets/01_flight_details_january.csv\")\n",
    "feb  = pd.read_csv(\"datasets/02_flight_details_february.csv\")\n",
    "mar  = pd.read_csv(\"datasets/03_flight_details_march.csv\")\n",
    "apr  = pd.read_csv(\"datasets/04_flight_details_april.csv\")\n",
    "may  = pd.read_csv(\"datasets/05_flight_details_may.csv\")\n",
    "jun  = pd.read_csv(\"datasets/06_flight_details_june.csv\")\n",
    "jul  = pd.read_csv(\"datasets/07_flight_details_july.csv\")\n",
    "aug  = pd.read_csv(\"datasets/08_flight_details_august.csv\")\n",
    "sep  = pd.read_csv(\"datasets/09_flight_details_september.csv\")\n",
    "octo = pd.read_csv(\"datasets/10_flight_details_october.csv\")\n",
    "nov  = pd.read_csv(\"datasets/11_flight_details_november.csv\")\n",
    "dec  = pd.read_csv(\"datasets/12_flight_details_december.csv\")\n"
   ]
  },
  {
   "cell_type": "code",
   "execution_count": 20,
   "metadata": {},
   "outputs": [],
   "source": [
    "df_list = [jan, feb, mar, may, jun, jul, aug, sep, octo, nov, dec]"
   ]
  },
  {
   "cell_type": "code",
   "execution_count": 34,
   "metadata": {},
   "outputs": [],
   "source": [
    "for df in df_list:\n",
    "    df.FL_DATE = pd.to_datetime(df.FL_DATE)\n",
    "    df.AIRLINE_ID = df.AIRLINE_ID.astype(\"str\")\n",
    "    df.FL_NUM = df.FL_NUM.astype(\"str\")\n",
    "#     df.CRS_DEP_TIME = pd.to_datetime(df.CRS_DEP_TIME, format=\"%H%M\")\n",
    "#     df.CRS_ARR_TIME = pd.to_datetime(df.CRS_ARR_TIME, format=\"%H%M\")\n",
    "    df.CANCELLED = df.CANCELLED.astype(\"bool\")\n",
    "    df.DIVERTED = df.DIVERTED.astype(\"bool\")"
   ]
  },
  {
   "cell_type": "code",
   "execution_count": 38,
   "metadata": {},
   "outputs": [],
   "source": [
    "for df in df_list:\n",
    "    df.drop(\"Unnamed: 24\", axis=1, inplace=True)"
   ]
  },
  {
   "cell_type": "code",
   "execution_count": 39,
   "metadata": {},
   "outputs": [
    {
     "name": "stdout",
     "output_type": "stream",
     "text": [
      "<class 'pandas.core.frame.DataFrame'>\n",
      "RangeIndex: 488597 entries, 0 to 488596\n",
      "Data columns (total 24 columns):\n",
      "FL_DATE                488597 non-null datetime64[ns]\n",
      "AIRLINE_ID             488597 non-null object\n",
      "TAIL_NUM               487136 non-null object\n",
      "FL_NUM                 488597 non-null object\n",
      "ORIGIN                 488597 non-null object\n",
      "ORIGIN_CITY_NAME       488597 non-null object\n",
      "DEST                   488597 non-null object\n",
      "DEST_CITY_NAME         488597 non-null object\n",
      "CRS_DEP_TIME           488597 non-null int64\n",
      "DEP_TIME               480222 non-null float64\n",
      "DEP_DELAY              480221 non-null float64\n",
      "DEP_DELAY_GROUP        480221 non-null float64\n",
      "CRS_ARR_TIME           488597 non-null int64\n",
      "ARR_TIME               479891 non-null float64\n",
      "ARR_DELAY              479154 non-null float64\n",
      "ARR_DELAY_GROUP        479154 non-null float64\n",
      "CANCELLED              488597 non-null bool\n",
      "DIVERTED               488597 non-null bool\n",
      "AIR_TIME               479154 non-null float64\n",
      "CARRIER_DELAY          88638 non-null float64\n",
      "WEATHER_DELAY          88638 non-null float64\n",
      "NAS_DELAY              88638 non-null float64\n",
      "SECURITY_DELAY         88638 non-null float64\n",
      "LATE_AIRCRAFT_DELAY    88638 non-null float64\n",
      "dtypes: bool(2), datetime64[ns](1), float64(12), int64(2), object(7)\n",
      "memory usage: 82.9+ MB\n"
     ]
    }
   ],
   "source": [
    "mar.info()"
   ]
  },
  {
   "cell_type": "code",
   "execution_count": null,
   "metadata": {},
   "outputs": [],
   "source": []
  }
 ],
 "metadata": {
  "kernelspec": {
   "display_name": "Python 3",
   "language": "python",
   "name": "python3"
  },
  "language_info": {
   "codemirror_mode": {
    "name": "ipython",
    "version": 3
   },
   "file_extension": ".py",
   "mimetype": "text/x-python",
   "name": "python",
   "nbconvert_exporter": "python",
   "pygments_lexer": "ipython3",
   "version": "3.6.5"
  }
 },
 "nbformat": 4,
 "nbformat_minor": 2
}
