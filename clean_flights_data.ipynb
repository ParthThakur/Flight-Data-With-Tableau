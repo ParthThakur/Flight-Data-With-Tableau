{
 "cells": [
  {
   "cell_type": "code",
   "execution_count": 1,
   "metadata": {},
   "outputs": [],
   "source": [
    "import pandas as pd"
   ]
  },
  {
   "cell_type": "code",
   "execution_count": 2,
   "metadata": {},
   "outputs": [],
   "source": [
    "jan  = pd.read_csv(\"datasets/01_flight_details_january.csv\")\n",
    "feb  = pd.read_csv(\"datasets/02_flight_details_february.csv\")\n",
    "mar  = pd.read_csv(\"datasets/03_flight_details_march.csv\")\n",
    "apr  = pd.read_csv(\"datasets/04_flight_details_april.csv\")\n",
    "may  = pd.read_csv(\"datasets/05_flight_details_may.csv\")\n",
    "jun  = pd.read_csv(\"datasets/06_flight_details_june.csv\")\n",
    "jul  = pd.read_csv(\"datasets/07_flight_details_july.csv\")\n",
    "aug  = pd.read_csv(\"datasets/08_flight_details_august.csv\")\n",
    "sep  = pd.read_csv(\"datasets/09_flight_details_september.csv\")\n",
    "octo = pd.read_csv(\"datasets/10_flight_details_october.csv\")\n",
    "nov  = pd.read_csv(\"datasets/11_flight_details_november.csv\")\n",
    "dec  = pd.read_csv(\"datasets/12_flight_details_december.csv\")\n"
   ]
  },
  {
   "cell_type": "code",
   "execution_count": 3,
   "metadata": {},
   "outputs": [],
   "source": [
    "df_list = [jan, feb, mar, may, jun, jul, aug, sep, octo, nov, dec]"
   ]
  },
  {
   "cell_type": "code",
   "execution_count": 4,
   "metadata": {},
   "outputs": [],
   "source": [
    "df_copy_list = []\n",
    "for df in df_list:\n",
    "    df_copy_list.append(df.copy())"
   ]
  },
  {
   "cell_type": "code",
   "execution_count": 5,
   "metadata": {},
   "outputs": [],
   "source": [
    "for df in df_copy_list:\n",
    "    df.FL_DATE = pd.to_datetime(df.FL_DATE)\n",
    "    df.AIRLINE_ID = df.AIRLINE_ID.astype(\"str\")\n",
    "    df.FL_NUM = df.FL_NUM.astype(\"str\")\n",
    "    df.CRS_DEP_TIME = df.CRS_DEP_TIME.astype(\"str\").str.zfill(4)\n",
    "    df.CRS_ARR_TIME = df.CRS_ARR_TIME.astype(\"str\").str.zfill(4)\n",
    "    df.CRS_DEP_TIME = pd.to_datetime(df.CRS_DEP_TIME, format=\"%H%M\").dt.time\n",
    "    df.CRS_ARR_TIME = pd.to_datetime(df.CRS_ARR_TIME, format=\"%H%M\").dt.time\n",
    "    df.DEP_DELAY_GROUP = df.DEP_DELAY_GROUP.astype(\"int\", errors=\"ignore\")\n",
    "    df.ARR_DELAY_GROUP = df.ARR_DELAY_GROUP.astype(\"int\", errors=\"ignore\")\n",
    "    df.DEP_DELAY = df.DEP_DELAY.astype(\"int\", errors=\"ignore\")\n",
    "    df.ARR_DELAY = df.ARR_DELAY.astype(\"int\", errors=\"ignore\")\n",
    "    df.CANCELLED = df.CANCELLED.astype(\"bool\")\n",
    "    df.DIVERTED = df.DIVERTED.astype(\"bool\")"
   ]
  },
  {
   "cell_type": "code",
   "execution_count": null,
   "metadata": {},
   "outputs": [],
   "source": [
    "for df in df_copy_list:\n",
    "    df.drop(\"Unnamed: 24\", axis=1, inplace=True)"
   ]
  },
  {
   "cell_type": "code",
   "execution_count": null,
   "metadata": {},
   "outputs": [],
   "source": [
    "df_copy[2][\"CRS_DEP_TIME\"].describe()"
   ]
  },
  {
   "cell_type": "code",
   "execution_count": null,
   "metadata": {},
   "outputs": [],
   "source": []
  }
 ],
 "metadata": {
  "kernelspec": {
   "display_name": "Python 3",
   "language": "python",
   "name": "python3"
  },
  "language_info": {
   "codemirror_mode": {
    "name": "ipython",
    "version": 3
   },
   "file_extension": ".py",
   "mimetype": "text/x-python",
   "name": "python",
   "nbconvert_exporter": "python",
   "pygments_lexer": "ipython3",
   "version": "3.6.5"
  }
 },
 "nbformat": 4,
 "nbformat_minor": 2
}
