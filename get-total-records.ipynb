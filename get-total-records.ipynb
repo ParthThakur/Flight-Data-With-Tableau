{
 "cells": [
  {
   "cell_type": "code",
   "execution_count": 1,
   "metadata": {},
   "outputs": [],
   "source": [
    "import pandas as pd"
   ]
  },
  {
   "cell_type": "code",
   "execution_count": 2,
   "metadata": {},
   "outputs": [],
   "source": [
    "# Read master dataset.\n",
    "master_df = pd.read_csv(\"datasets/2018_cleaned_enhanced.csv\")"
   ]
  },
  {
   "cell_type": "code",
   "execution_count": 3,
   "metadata": {},
   "outputs": [],
   "source": [
    "# Get total number of records.\n",
    "total_records = master_df.shape[0]"
   ]
  },
  {
   "cell_type": "code",
   "execution_count": 4,
   "metadata": {},
   "outputs": [],
   "source": [
    "# Count On Time Flights.\n",
    "on_time = master_df.loc[(master_df[\"DEP_DELAY_GROUP\"] <= 0) & (master_df[\"ARR_DELAY_GROUP\"] <= 0) & (master_df[\"FLIGHT_STATUS\"] == \"Normal\")].shape[0]"
   ]
  },
  {
   "cell_type": "code",
   "execution_count": 5,
   "metadata": {
    "scrolled": false
   },
   "outputs": [],
   "source": [
    "# Count Delay causes.\n",
    "cause = master_df[[\"CARRIER_DELAY\", \"WEATHER_DELAY\", \"NAS_DELAY\", \"SECURITY_DELAY\", \"LATE_AIRCRAFT_DELAY\"]].count().tolist()"
   ]
  },
  {
   "cell_type": "code",
   "execution_count": 6,
   "metadata": {},
   "outputs": [],
   "source": [
    "# Deconstruct list to individual variables.\n",
    "CARRIER_DELAY, WEATHER_DELAY, NAS_DELAY, SECURITY_DELAY, LATE_AIRCRAFT_DELAY = cause"
   ]
  },
  {
   "cell_type": "code",
   "execution_count": 7,
   "metadata": {},
   "outputs": [],
   "source": [
    "# Count cancelled and diverted variables.\n",
    "cancelled = master_df.loc[(master_df[\"FLIGHT_STATUS\"] == \"Cancelled\")].shape[0]\n",
    "diverted = master_df.loc[(master_df[\"FLIGHT_STATUS\"] == \"Diverted\")].shape[0]"
   ]
  },
  {
   "cell_type": "code",
   "execution_count": 8,
   "metadata": {},
   "outputs": [],
   "source": [
    "# Create a dictionary.\n",
    "records = [{\"variable\": \"on_time\", \"records\": on_time},\n",
    "           {\"variable\": \"CARRIER_DELAY\", \"records\": CARRIER_DELAY},\n",
    "           {\"variable\": \"WEATHER_DELAY\", \"records\": WEATHER_DELAY},\n",
    "           {\"variable\": \"NAS_DELAY\", \"records\": NAS_DELAY},\n",
    "           {\"variable\": \"SECURITY_DELAY\", \"records\": SECURITY_DELAY},\n",
    "           {\"variable\": \"LATE_AIRCRAFT_DELAY\", \"records\": LATE_AIRCRAFT_DELAY},\n",
    "           {\"variable\": \"cancelled\", \"records\": cancelled},\n",
    "           {\"variable\": \"diverted\", \"records\": diverted}]"
   ]
  },
  {
   "cell_type": "code",
   "execution_count": 9,
   "metadata": {},
   "outputs": [],
   "source": [
    "#Create a dataframe and save to csv file.\n",
    "records_df = pd.DataFrame(records, columns=[\"variable\", \"records\"])\n",
    "records_df.to_csv(\"datasets/total_records.csv\", index=False)"
   ]
  },
  {
   "cell_type": "code",
   "execution_count": 10,
   "metadata": {},
   "outputs": [
    {
     "data": {
      "text/plain": [
       "5674621"
      ]
     },
     "execution_count": 10,
     "metadata": {},
     "output_type": "execute_result"
    }
   ],
   "source": [
    "# Print total records.\n",
    "total_records"
   ]
  },
  {
   "cell_type": "code",
   "execution_count": null,
   "metadata": {},
   "outputs": [],
   "source": []
  }
 ],
 "metadata": {
  "kernelspec": {
   "display_name": "Python 3",
   "language": "python",
   "name": "python3"
  },
  "language_info": {
   "codemirror_mode": {
    "name": "ipython",
    "version": 3
   },
   "file_extension": ".py",
   "mimetype": "text/x-python",
   "name": "python",
   "nbconvert_exporter": "python",
   "pygments_lexer": "ipython3",
   "version": "3.6.5"
  }
 },
 "nbformat": 4,
 "nbformat_minor": 2
}
