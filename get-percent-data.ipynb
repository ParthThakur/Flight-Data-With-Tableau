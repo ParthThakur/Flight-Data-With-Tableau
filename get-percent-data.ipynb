{
 "cells": [
  {
   "cell_type": "code",
   "execution_count": 1,
   "metadata": {},
   "outputs": [],
   "source": [
    "import pandas as pd\n",
    "import numpy as np"
   ]
  },
  {
   "cell_type": "code",
   "execution_count": 3,
   "metadata": {},
   "outputs": [],
   "source": [
    "master_df = pd.read_csv(\"datasets/2018_cleaned_enhanced.csv\")"
   ]
  },
  {
   "cell_type": "code",
   "execution_count": 38,
   "metadata": {},
   "outputs": [],
   "source": [
    "total_records = master_df.shape[0]"
   ]
  },
  {
   "cell_type": "code",
   "execution_count": 37,
   "metadata": {},
   "outputs": [],
   "source": [
    "on_time = master_df.loc[(master_df[\"DEP_DELAY_GROUP\"] <= 0) & (master_df[\"ARR_DELAY_GROUP\"] <= 0) & (master_df[\"FLIGHT_STATUS\"] == \"Normal\")].shape[0]"
   ]
  },
  {
   "cell_type": "code",
   "execution_count": 43,
   "metadata": {
    "scrolled": false
   },
   "outputs": [],
   "source": [
    "cause = master_df[[\"CARRIER_DELAY\", \"WEATHER_DELAY\", \"NAS_DELAY\", \"SECURITY_DELAY\", \"LATE_AIRCRAFT_DELAY\"]].count().tolist()"
   ]
  },
  {
   "cell_type": "code",
   "execution_count": 47,
   "metadata": {},
   "outputs": [],
   "source": [
    "CARRIER_DELAY, WEATHER_DELAY, NAS_DELAY, SECURITY_DELAY, LATE_AIRCRAFT_DELAY = cause"
   ]
  },
  {
   "cell_type": "code",
   "execution_count": 56,
   "metadata": {},
   "outputs": [],
   "source": [
    "cancelled = master_df.loc[(master_df[\"FLIGHT_STATUS\"] == \"Cancelled\")].shape[0]\n",
    "diverted = master_df.loc[(master_df[\"FLIGHT_STATUS\"] == \"Diverted\")].shape[0]"
   ]
  },
  {
   "cell_type": "code",
   "execution_count": 65,
   "metadata": {},
   "outputs": [],
   "source": [
    "records = [{\"variable\": \"on_time\", \"records\": on_time},\n",
    "           {\"variable\": \"CARRIER_DELAY\", \"records\": CARRIER_DELAY},\n",
    "           {\"variable\": \"WEATHER_DELAY\", \"records\": WEATHER_DELAY},\n",
    "           {\"variable\": \"NAS_DELAY\", \"records\": NAS_DELAY},\n",
    "           {\"variable\": \"SECURITY_DELAY\", \"records\": SECURITY_DELAY},\n",
    "           {\"variable\": \"LATE_AIRCRAFT_DELAY\", \"records\": LATE_AIRCRAFT_DELAY},\n",
    "           {\"variable\": \"cancelled\", \"records\": cancelled},\n",
    "           {\"variable\": \"diverted\", \"records\": diverted}]"
   ]
  },
  {
   "cell_type": "code",
   "execution_count": 67,
   "metadata": {},
   "outputs": [],
   "source": [
    "records_df = pd.DataFrame(records, columns=[\"variable\", \"records\"])\n",
    "records_df.to_csv(\"datasets/total_records.csv\", index=False)"
   ]
  },
  {
   "cell_type": "code",
   "execution_count": 68,
   "metadata": {},
   "outputs": [
    {
     "data": {
      "text/plain": [
       "[{'variable': 'on_time', 'records': 4345731},\n",
       " {'variable': 'CARRIER_DELAY', 'records': 515231},\n",
       " {'variable': 'WEATHER_DELAY', 'records': 49408},\n",
       " {'variable': 'NAS_DELAY', 'records': 556933},\n",
       " {'variable': 'SECURITY_DELAY', 'records': 3160},\n",
       " {'variable': 'LATE_AIRCRAFT_DELAY', 'records': 543191},\n",
       " {'variable': 'cancelled', 'records': 82693},\n",
       " {'variable': 'diverted', 'records': 12517}]"
      ]
     },
     "execution_count": 68,
     "metadata": {},
     "output_type": "execute_result"
    }
   ],
   "source": [
    "records"
   ]
  },
  {
   "cell_type": "code",
   "execution_count": null,
   "metadata": {},
   "outputs": [],
   "source": []
  }
 ],
 "metadata": {
  "kernelspec": {
   "display_name": "Python 3",
   "language": "python",
   "name": "python3"
  },
  "language_info": {
   "codemirror_mode": {
    "name": "ipython",
    "version": 3
   },
   "file_extension": ".py",
   "mimetype": "text/x-python",
   "name": "python",
   "nbconvert_exporter": "python",
   "pygments_lexer": "ipython3",
   "version": "3.6.5"
  }
 },
 "nbformat": 4,
 "nbformat_minor": 2
}
